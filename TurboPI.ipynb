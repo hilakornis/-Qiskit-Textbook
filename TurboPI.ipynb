{
  "nbformat": 4,
  "nbformat_minor": 0,
  "metadata": {
    "colab": {
      "provenance": [],
      "gpuType": "T4",
      "authorship_tag": "ABX9TyP5QZuM9uu/9K9Zz16vJFU4",
      "include_colab_link": true
    },
    "kernelspec": {
      "name": "python3",
      "display_name": "Python 3"
    },
    "language_info": {
      "name": "python"
    },
    "accelerator": "GPU",
    "widgets": {
      "application/vnd.jupyter.widget-state+json": {
        "676b0e038ac44331a86af690153d0cf8": {
          "model_module": "@jupyter-widgets/controls",
          "model_name": "HBoxModel",
          "model_module_version": "1.5.0",
          "state": {
            "_dom_classes": [],
            "_model_module": "@jupyter-widgets/controls",
            "_model_module_version": "1.5.0",
            "_model_name": "HBoxModel",
            "_view_count": null,
            "_view_module": "@jupyter-widgets/controls",
            "_view_module_version": "1.5.0",
            "_view_name": "HBoxView",
            "box_style": "",
            "children": [
              "IPY_MODEL_6f82c70ef9fa4d99b857f2bd3ce8b876",
              "IPY_MODEL_af93d48089274d15a4f047ab7f7216aa",
              "IPY_MODEL_93351d9d67d64567953dd62d43b4aa7d"
            ],
            "layout": "IPY_MODEL_f6b5092862a64d6f95aa7f74c3925e88"
          }
        },
        "6f82c70ef9fa4d99b857f2bd3ce8b876": {
          "model_module": "@jupyter-widgets/controls",
          "model_name": "HTMLModel",
          "model_module_version": "1.5.0",
          "state": {
            "_dom_classes": [],
            "_model_module": "@jupyter-widgets/controls",
            "_model_module_version": "1.5.0",
            "_model_name": "HTMLModel",
            "_view_count": null,
            "_view_module": "@jupyter-widgets/controls",
            "_view_module_version": "1.5.0",
            "_view_name": "HTMLView",
            "description": "",
            "description_tooltip": null,
            "layout": "IPY_MODEL_dd2fe3a579e3427e9a37f3ba93feb6fc",
            "placeholder": "​",
            "style": "IPY_MODEL_63cc12b64bd04d0c8ab83d3137147c15",
            "value": "config.json: 100%"
          }
        },
        "af93d48089274d15a4f047ab7f7216aa": {
          "model_module": "@jupyter-widgets/controls",
          "model_name": "FloatProgressModel",
          "model_module_version": "1.5.0",
          "state": {
            "_dom_classes": [],
            "_model_module": "@jupyter-widgets/controls",
            "_model_module_version": "1.5.0",
            "_model_name": "FloatProgressModel",
            "_view_count": null,
            "_view_module": "@jupyter-widgets/controls",
            "_view_module_version": "1.5.0",
            "_view_name": "ProgressView",
            "bar_style": "success",
            "description": "",
            "description_tooltip": null,
            "layout": "IPY_MODEL_089022e9083f40f4aa43024ce08db489",
            "max": 1431,
            "min": 0,
            "orientation": "horizontal",
            "style": "IPY_MODEL_1fe046cf696546b4814b7db1795c0397",
            "value": 1431
          }
        },
        "93351d9d67d64567953dd62d43b4aa7d": {
          "model_module": "@jupyter-widgets/controls",
          "model_name": "HTMLModel",
          "model_module_version": "1.5.0",
          "state": {
            "_dom_classes": [],
            "_model_module": "@jupyter-widgets/controls",
            "_model_module_version": "1.5.0",
            "_model_name": "HTMLModel",
            "_view_count": null,
            "_view_module": "@jupyter-widgets/controls",
            "_view_module_version": "1.5.0",
            "_view_name": "HTMLView",
            "description": "",
            "description_tooltip": null,
            "layout": "IPY_MODEL_39b127f1f9334b56abc4a819590072fb",
            "placeholder": "​",
            "style": "IPY_MODEL_a6c3b7c5b0dc4d80861610ab28436fa9",
            "value": " 1.43k/1.43k [00:00&lt;00:00, 107kB/s]"
          }
        },
        "f6b5092862a64d6f95aa7f74c3925e88": {
          "model_module": "@jupyter-widgets/base",
          "model_name": "LayoutModel",
          "model_module_version": "1.2.0",
          "state": {
            "_model_module": "@jupyter-widgets/base",
            "_model_module_version": "1.2.0",
            "_model_name": "LayoutModel",
            "_view_count": null,
            "_view_module": "@jupyter-widgets/base",
            "_view_module_version": "1.2.0",
            "_view_name": "LayoutView",
            "align_content": null,
            "align_items": null,
            "align_self": null,
            "border": null,
            "bottom": null,
            "display": null,
            "flex": null,
            "flex_flow": null,
            "grid_area": null,
            "grid_auto_columns": null,
            "grid_auto_flow": null,
            "grid_auto_rows": null,
            "grid_column": null,
            "grid_gap": null,
            "grid_row": null,
            "grid_template_areas": null,
            "grid_template_columns": null,
            "grid_template_rows": null,
            "height": null,
            "justify_content": null,
            "justify_items": null,
            "left": null,
            "margin": null,
            "max_height": null,
            "max_width": null,
            "min_height": null,
            "min_width": null,
            "object_fit": null,
            "object_position": null,
            "order": null,
            "overflow": null,
            "overflow_x": null,
            "overflow_y": null,
            "padding": null,
            "right": null,
            "top": null,
            "visibility": null,
            "width": null
          }
        },
        "dd2fe3a579e3427e9a37f3ba93feb6fc": {
          "model_module": "@jupyter-widgets/base",
          "model_name": "LayoutModel",
          "model_module_version": "1.2.0",
          "state": {
            "_model_module": "@jupyter-widgets/base",
            "_model_module_version": "1.2.0",
            "_model_name": "LayoutModel",
            "_view_count": null,
            "_view_module": "@jupyter-widgets/base",
            "_view_module_version": "1.2.0",
            "_view_name": "LayoutView",
            "align_content": null,
            "align_items": null,
            "align_self": null,
            "border": null,
            "bottom": null,
            "display": null,
            "flex": null,
            "flex_flow": null,
            "grid_area": null,
            "grid_auto_columns": null,
            "grid_auto_flow": null,
            "grid_auto_rows": null,
            "grid_column": null,
            "grid_gap": null,
            "grid_row": null,
            "grid_template_areas": null,
            "grid_template_columns": null,
            "grid_template_rows": null,
            "height": null,
            "justify_content": null,
            "justify_items": null,
            "left": null,
            "margin": null,
            "max_height": null,
            "max_width": null,
            "min_height": null,
            "min_width": null,
            "object_fit": null,
            "object_position": null,
            "order": null,
            "overflow": null,
            "overflow_x": null,
            "overflow_y": null,
            "padding": null,
            "right": null,
            "top": null,
            "visibility": null,
            "width": null
          }
        },
        "63cc12b64bd04d0c8ab83d3137147c15": {
          "model_module": "@jupyter-widgets/controls",
          "model_name": "DescriptionStyleModel",
          "model_module_version": "1.5.0",
          "state": {
            "_model_module": "@jupyter-widgets/controls",
            "_model_module_version": "1.5.0",
            "_model_name": "DescriptionStyleModel",
            "_view_count": null,
            "_view_module": "@jupyter-widgets/base",
            "_view_module_version": "1.2.0",
            "_view_name": "StyleView",
            "description_width": ""
          }
        },
        "089022e9083f40f4aa43024ce08db489": {
          "model_module": "@jupyter-widgets/base",
          "model_name": "LayoutModel",
          "model_module_version": "1.2.0",
          "state": {
            "_model_module": "@jupyter-widgets/base",
            "_model_module_version": "1.2.0",
            "_model_name": "LayoutModel",
            "_view_count": null,
            "_view_module": "@jupyter-widgets/base",
            "_view_module_version": "1.2.0",
            "_view_name": "LayoutView",
            "align_content": null,
            "align_items": null,
            "align_self": null,
            "border": null,
            "bottom": null,
            "display": null,
            "flex": null,
            "flex_flow": null,
            "grid_area": null,
            "grid_auto_columns": null,
            "grid_auto_flow": null,
            "grid_auto_rows": null,
            "grid_column": null,
            "grid_gap": null,
            "grid_row": null,
            "grid_template_areas": null,
            "grid_template_columns": null,
            "grid_template_rows": null,
            "height": null,
            "justify_content": null,
            "justify_items": null,
            "left": null,
            "margin": null,
            "max_height": null,
            "max_width": null,
            "min_height": null,
            "min_width": null,
            "object_fit": null,
            "object_position": null,
            "order": null,
            "overflow": null,
            "overflow_x": null,
            "overflow_y": null,
            "padding": null,
            "right": null,
            "top": null,
            "visibility": null,
            "width": null
          }
        },
        "1fe046cf696546b4814b7db1795c0397": {
          "model_module": "@jupyter-widgets/controls",
          "model_name": "ProgressStyleModel",
          "model_module_version": "1.5.0",
          "state": {
            "_model_module": "@jupyter-widgets/controls",
            "_model_module_version": "1.5.0",
            "_model_name": "ProgressStyleModel",
            "_view_count": null,
            "_view_module": "@jupyter-widgets/base",
            "_view_module_version": "1.2.0",
            "_view_name": "StyleView",
            "bar_color": null,
            "description_width": ""
          }
        },
        "39b127f1f9334b56abc4a819590072fb": {
          "model_module": "@jupyter-widgets/base",
          "model_name": "LayoutModel",
          "model_module_version": "1.2.0",
          "state": {
            "_model_module": "@jupyter-widgets/base",
            "_model_module_version": "1.2.0",
            "_model_name": "LayoutModel",
            "_view_count": null,
            "_view_module": "@jupyter-widgets/base",
            "_view_module_version": "1.2.0",
            "_view_name": "LayoutView",
            "align_content": null,
            "align_items": null,
            "align_self": null,
            "border": null,
            "bottom": null,
            "display": null,
            "flex": null,
            "flex_flow": null,
            "grid_area": null,
            "grid_auto_columns": null,
            "grid_auto_flow": null,
            "grid_auto_rows": null,
            "grid_column": null,
            "grid_gap": null,
            "grid_row": null,
            "grid_template_areas": null,
            "grid_template_columns": null,
            "grid_template_rows": null,
            "height": null,
            "justify_content": null,
            "justify_items": null,
            "left": null,
            "margin": null,
            "max_height": null,
            "max_width": null,
            "min_height": null,
            "min_width": null,
            "object_fit": null,
            "object_position": null,
            "order": null,
            "overflow": null,
            "overflow_x": null,
            "overflow_y": null,
            "padding": null,
            "right": null,
            "top": null,
            "visibility": null,
            "width": null
          }
        },
        "a6c3b7c5b0dc4d80861610ab28436fa9": {
          "model_module": "@jupyter-widgets/controls",
          "model_name": "DescriptionStyleModel",
          "model_module_version": "1.5.0",
          "state": {
            "_model_module": "@jupyter-widgets/controls",
            "_model_module_version": "1.5.0",
            "_model_name": "DescriptionStyleModel",
            "_view_count": null,
            "_view_module": "@jupyter-widgets/base",
            "_view_module_version": "1.2.0",
            "_view_name": "StyleView",
            "description_width": ""
          }
        },
        "b25437291a2a4ef9949a67cea79587a8": {
          "model_module": "@jupyter-widgets/controls",
          "model_name": "HBoxModel",
          "model_module_version": "1.5.0",
          "state": {
            "_dom_classes": [],
            "_model_module": "@jupyter-widgets/controls",
            "_model_module_version": "1.5.0",
            "_model_name": "HBoxModel",
            "_view_count": null,
            "_view_module": "@jupyter-widgets/controls",
            "_view_module_version": "1.5.0",
            "_view_name": "HBoxView",
            "box_style": "",
            "children": [
              "IPY_MODEL_aa088b806928465287b9c07d4c5448b0",
              "IPY_MODEL_9024195c09b74c72b60ecbf25b5dd090",
              "IPY_MODEL_b432f4096b6e45b3a51baf5067922fc0"
            ],
            "layout": "IPY_MODEL_b89ec3f73b43449dbafad05be65ae7fb"
          }
        },
        "aa088b806928465287b9c07d4c5448b0": {
          "model_module": "@jupyter-widgets/controls",
          "model_name": "HTMLModel",
          "model_module_version": "1.5.0",
          "state": {
            "_dom_classes": [],
            "_model_module": "@jupyter-widgets/controls",
            "_model_module_version": "1.5.0",
            "_model_name": "HTMLModel",
            "_view_count": null,
            "_view_module": "@jupyter-widgets/controls",
            "_view_module_version": "1.5.0",
            "_view_name": "HTMLView",
            "description": "",
            "description_tooltip": null,
            "layout": "IPY_MODEL_ccdfb19f21644b79982aead187c061cc",
            "placeholder": "​",
            "style": "IPY_MODEL_1febb4152c19474b8d3827aec9a0430e",
            "value": "model.safetensors: 100%"
          }
        },
        "9024195c09b74c72b60ecbf25b5dd090": {
          "model_module": "@jupyter-widgets/controls",
          "model_name": "FloatProgressModel",
          "model_module_version": "1.5.0",
          "state": {
            "_dom_classes": [],
            "_model_module": "@jupyter-widgets/controls",
            "_model_module_version": "1.5.0",
            "_model_name": "FloatProgressModel",
            "_view_count": null,
            "_view_module": "@jupyter-widgets/controls",
            "_view_module_version": "1.5.0",
            "_view_name": "ProgressView",
            "bar_style": "success",
            "description": "",
            "description_tooltip": null,
            "layout": "IPY_MODEL_0c8d2242af614f3caeb99f47420b388d",
            "max": 1341322868,
            "min": 0,
            "orientation": "horizontal",
            "style": "IPY_MODEL_0a2b1edcc4b44bccb986454a25ebe329",
            "value": 1341322868
          }
        },
        "b432f4096b6e45b3a51baf5067922fc0": {
          "model_module": "@jupyter-widgets/controls",
          "model_name": "HTMLModel",
          "model_module_version": "1.5.0",
          "state": {
            "_dom_classes": [],
            "_model_module": "@jupyter-widgets/controls",
            "_model_module_version": "1.5.0",
            "_model_name": "HTMLModel",
            "_view_count": null,
            "_view_module": "@jupyter-widgets/controls",
            "_view_module_version": "1.5.0",
            "_view_name": "HTMLView",
            "description": "",
            "description_tooltip": null,
            "layout": "IPY_MODEL_b412d385ee554da08ad7ecfe6c8d1b1c",
            "placeholder": "​",
            "style": "IPY_MODEL_634366a717134ce3abcd66c1ffcb6b03",
            "value": " 1.34G/1.34G [00:31&lt;00:00, 42.7MB/s]"
          }
        },
        "b89ec3f73b43449dbafad05be65ae7fb": {
          "model_module": "@jupyter-widgets/base",
          "model_name": "LayoutModel",
          "model_module_version": "1.2.0",
          "state": {
            "_model_module": "@jupyter-widgets/base",
            "_model_module_version": "1.2.0",
            "_model_name": "LayoutModel",
            "_view_count": null,
            "_view_module": "@jupyter-widgets/base",
            "_view_module_version": "1.2.0",
            "_view_name": "LayoutView",
            "align_content": null,
            "align_items": null,
            "align_self": null,
            "border": null,
            "bottom": null,
            "display": null,
            "flex": null,
            "flex_flow": null,
            "grid_area": null,
            "grid_auto_columns": null,
            "grid_auto_flow": null,
            "grid_auto_rows": null,
            "grid_column": null,
            "grid_gap": null,
            "grid_row": null,
            "grid_template_areas": null,
            "grid_template_columns": null,
            "grid_template_rows": null,
            "height": null,
            "justify_content": null,
            "justify_items": null,
            "left": null,
            "margin": null,
            "max_height": null,
            "max_width": null,
            "min_height": null,
            "min_width": null,
            "object_fit": null,
            "object_position": null,
            "order": null,
            "overflow": null,
            "overflow_x": null,
            "overflow_y": null,
            "padding": null,
            "right": null,
            "top": null,
            "visibility": null,
            "width": null
          }
        },
        "ccdfb19f21644b79982aead187c061cc": {
          "model_module": "@jupyter-widgets/base",
          "model_name": "LayoutModel",
          "model_module_version": "1.2.0",
          "state": {
            "_model_module": "@jupyter-widgets/base",
            "_model_module_version": "1.2.0",
            "_model_name": "LayoutModel",
            "_view_count": null,
            "_view_module": "@jupyter-widgets/base",
            "_view_module_version": "1.2.0",
            "_view_name": "LayoutView",
            "align_content": null,
            "align_items": null,
            "align_self": null,
            "border": null,
            "bottom": null,
            "display": null,
            "flex": null,
            "flex_flow": null,
            "grid_area": null,
            "grid_auto_columns": null,
            "grid_auto_flow": null,
            "grid_auto_rows": null,
            "grid_column": null,
            "grid_gap": null,
            "grid_row": null,
            "grid_template_areas": null,
            "grid_template_columns": null,
            "grid_template_rows": null,
            "height": null,
            "justify_content": null,
            "justify_items": null,
            "left": null,
            "margin": null,
            "max_height": null,
            "max_width": null,
            "min_height": null,
            "min_width": null,
            "object_fit": null,
            "object_position": null,
            "order": null,
            "overflow": null,
            "overflow_x": null,
            "overflow_y": null,
            "padding": null,
            "right": null,
            "top": null,
            "visibility": null,
            "width": null
          }
        },
        "1febb4152c19474b8d3827aec9a0430e": {
          "model_module": "@jupyter-widgets/controls",
          "model_name": "DescriptionStyleModel",
          "model_module_version": "1.5.0",
          "state": {
            "_model_module": "@jupyter-widgets/controls",
            "_model_module_version": "1.5.0",
            "_model_name": "DescriptionStyleModel",
            "_view_count": null,
            "_view_module": "@jupyter-widgets/base",
            "_view_module_version": "1.2.0",
            "_view_name": "StyleView",
            "description_width": ""
          }
        },
        "0c8d2242af614f3caeb99f47420b388d": {
          "model_module": "@jupyter-widgets/base",
          "model_name": "LayoutModel",
          "model_module_version": "1.2.0",
          "state": {
            "_model_module": "@jupyter-widgets/base",
            "_model_module_version": "1.2.0",
            "_model_name": "LayoutModel",
            "_view_count": null,
            "_view_module": "@jupyter-widgets/base",
            "_view_module_version": "1.2.0",
            "_view_name": "LayoutView",
            "align_content": null,
            "align_items": null,
            "align_self": null,
            "border": null,
            "bottom": null,
            "display": null,
            "flex": null,
            "flex_flow": null,
            "grid_area": null,
            "grid_auto_columns": null,
            "grid_auto_flow": null,
            "grid_auto_rows": null,
            "grid_column": null,
            "grid_gap": null,
            "grid_row": null,
            "grid_template_areas": null,
            "grid_template_columns": null,
            "grid_template_rows": null,
            "height": null,
            "justify_content": null,
            "justify_items": null,
            "left": null,
            "margin": null,
            "max_height": null,
            "max_width": null,
            "min_height": null,
            "min_width": null,
            "object_fit": null,
            "object_position": null,
            "order": null,
            "overflow": null,
            "overflow_x": null,
            "overflow_y": null,
            "padding": null,
            "right": null,
            "top": null,
            "visibility": null,
            "width": null
          }
        },
        "0a2b1edcc4b44bccb986454a25ebe329": {
          "model_module": "@jupyter-widgets/controls",
          "model_name": "ProgressStyleModel",
          "model_module_version": "1.5.0",
          "state": {
            "_model_module": "@jupyter-widgets/controls",
            "_model_module_version": "1.5.0",
            "_model_name": "ProgressStyleModel",
            "_view_count": null,
            "_view_module": "@jupyter-widgets/base",
            "_view_module_version": "1.2.0",
            "_view_name": "StyleView",
            "bar_color": null,
            "description_width": ""
          }
        },
        "b412d385ee554da08ad7ecfe6c8d1b1c": {
          "model_module": "@jupyter-widgets/base",
          "model_name": "LayoutModel",
          "model_module_version": "1.2.0",
          "state": {
            "_model_module": "@jupyter-widgets/base",
            "_model_module_version": "1.2.0",
            "_model_name": "LayoutModel",
            "_view_count": null,
            "_view_module": "@jupyter-widgets/base",
            "_view_module_version": "1.2.0",
            "_view_name": "LayoutView",
            "align_content": null,
            "align_items": null,
            "align_self": null,
            "border": null,
            "bottom": null,
            "display": null,
            "flex": null,
            "flex_flow": null,
            "grid_area": null,
            "grid_auto_columns": null,
            "grid_auto_flow": null,
            "grid_auto_rows": null,
            "grid_column": null,
            "grid_gap": null,
            "grid_row": null,
            "grid_template_areas": null,
            "grid_template_columns": null,
            "grid_template_rows": null,
            "height": null,
            "justify_content": null,
            "justify_items": null,
            "left": null,
            "margin": null,
            "max_height": null,
            "max_width": null,
            "min_height": null,
            "min_width": null,
            "object_fit": null,
            "object_position": null,
            "order": null,
            "overflow": null,
            "overflow_x": null,
            "overflow_y": null,
            "padding": null,
            "right": null,
            "top": null,
            "visibility": null,
            "width": null
          }
        },
        "634366a717134ce3abcd66c1ffcb6b03": {
          "model_module": "@jupyter-widgets/controls",
          "model_name": "DescriptionStyleModel",
          "model_module_version": "1.5.0",
          "state": {
            "_model_module": "@jupyter-widgets/controls",
            "_model_module_version": "1.5.0",
            "_model_name": "DescriptionStyleModel",
            "_view_count": null,
            "_view_module": "@jupyter-widgets/base",
            "_view_module_version": "1.2.0",
            "_view_name": "StyleView",
            "description_width": ""
          }
        },
        "a11e6aa5df484abd89abeb9093c8200e": {
          "model_module": "@jupyter-widgets/controls",
          "model_name": "HBoxModel",
          "model_module_version": "1.5.0",
          "state": {
            "_dom_classes": [],
            "_model_module": "@jupyter-widgets/controls",
            "_model_module_version": "1.5.0",
            "_model_name": "HBoxModel",
            "_view_count": null,
            "_view_module": "@jupyter-widgets/controls",
            "_view_module_version": "1.5.0",
            "_view_name": "HBoxView",
            "box_style": "",
            "children": [
              "IPY_MODEL_cb491f02768740db9e5e6a89be47dc2a",
              "IPY_MODEL_7f13a4ebcd014ac0b7ce251fb17344bc",
              "IPY_MODEL_b5b34fa4561d46e980c566b401565166"
            ],
            "layout": "IPY_MODEL_d5523902f55e4eecbd2d38e7a7bbc656"
          }
        },
        "cb491f02768740db9e5e6a89be47dc2a": {
          "model_module": "@jupyter-widgets/controls",
          "model_name": "HTMLModel",
          "model_module_version": "1.5.0",
          "state": {
            "_dom_classes": [],
            "_model_module": "@jupyter-widgets/controls",
            "_model_module_version": "1.5.0",
            "_model_name": "HTMLModel",
            "_view_count": null,
            "_view_module": "@jupyter-widgets/controls",
            "_view_module_version": "1.5.0",
            "_view_name": "HTMLView",
            "description": "",
            "description_tooltip": null,
            "layout": "IPY_MODEL_f2e4781abd764500bec52b2e9fd46c25",
            "placeholder": "​",
            "style": "IPY_MODEL_add3871a35d5412c9784b5ab325292dc",
            "value": "preprocessor_config.json: 100%"
          }
        },
        "7f13a4ebcd014ac0b7ce251fb17344bc": {
          "model_module": "@jupyter-widgets/controls",
          "model_name": "FloatProgressModel",
          "model_module_version": "1.5.0",
          "state": {
            "_dom_classes": [],
            "_model_module": "@jupyter-widgets/controls",
            "_model_module_version": "1.5.0",
            "_model_name": "FloatProgressModel",
            "_view_count": null,
            "_view_module": "@jupyter-widgets/controls",
            "_view_module_version": "1.5.0",
            "_view_name": "ProgressView",
            "bar_style": "success",
            "description": "",
            "description_tooltip": null,
            "layout": "IPY_MODEL_1c94a235b5e4464a807dd1036a6a1dd6",
            "max": 775,
            "min": 0,
            "orientation": "horizontal",
            "style": "IPY_MODEL_81686031ce664fc29a5ede3bdb6768d5",
            "value": 775
          }
        },
        "b5b34fa4561d46e980c566b401565166": {
          "model_module": "@jupyter-widgets/controls",
          "model_name": "HTMLModel",
          "model_module_version": "1.5.0",
          "state": {
            "_dom_classes": [],
            "_model_module": "@jupyter-widgets/controls",
            "_model_module_version": "1.5.0",
            "_model_name": "HTMLModel",
            "_view_count": null,
            "_view_module": "@jupyter-widgets/controls",
            "_view_module_version": "1.5.0",
            "_view_name": "HTMLView",
            "description": "",
            "description_tooltip": null,
            "layout": "IPY_MODEL_27ed190a1fee4c41b114435dab39a764",
            "placeholder": "​",
            "style": "IPY_MODEL_b50f5d014a574a1e8ce42f5072ef8277",
            "value": " 775/775 [00:00&lt;00:00, 58.5kB/s]"
          }
        },
        "d5523902f55e4eecbd2d38e7a7bbc656": {
          "model_module": "@jupyter-widgets/base",
          "model_name": "LayoutModel",
          "model_module_version": "1.2.0",
          "state": {
            "_model_module": "@jupyter-widgets/base",
            "_model_module_version": "1.2.0",
            "_model_name": "LayoutModel",
            "_view_count": null,
            "_view_module": "@jupyter-widgets/base",
            "_view_module_version": "1.2.0",
            "_view_name": "LayoutView",
            "align_content": null,
            "align_items": null,
            "align_self": null,
            "border": null,
            "bottom": null,
            "display": null,
            "flex": null,
            "flex_flow": null,
            "grid_area": null,
            "grid_auto_columns": null,
            "grid_auto_flow": null,
            "grid_auto_rows": null,
            "grid_column": null,
            "grid_gap": null,
            "grid_row": null,
            "grid_template_areas": null,
            "grid_template_columns": null,
            "grid_template_rows": null,
            "height": null,
            "justify_content": null,
            "justify_items": null,
            "left": null,
            "margin": null,
            "max_height": null,
            "max_width": null,
            "min_height": null,
            "min_width": null,
            "object_fit": null,
            "object_position": null,
            "order": null,
            "overflow": null,
            "overflow_x": null,
            "overflow_y": null,
            "padding": null,
            "right": null,
            "top": null,
            "visibility": null,
            "width": null
          }
        },
        "f2e4781abd764500bec52b2e9fd46c25": {
          "model_module": "@jupyter-widgets/base",
          "model_name": "LayoutModel",
          "model_module_version": "1.2.0",
          "state": {
            "_model_module": "@jupyter-widgets/base",
            "_model_module_version": "1.2.0",
            "_model_name": "LayoutModel",
            "_view_count": null,
            "_view_module": "@jupyter-widgets/base",
            "_view_module_version": "1.2.0",
            "_view_name": "LayoutView",
            "align_content": null,
            "align_items": null,
            "align_self": null,
            "border": null,
            "bottom": null,
            "display": null,
            "flex": null,
            "flex_flow": null,
            "grid_area": null,
            "grid_auto_columns": null,
            "grid_auto_flow": null,
            "grid_auto_rows": null,
            "grid_column": null,
            "grid_gap": null,
            "grid_row": null,
            "grid_template_areas": null,
            "grid_template_columns": null,
            "grid_template_rows": null,
            "height": null,
            "justify_content": null,
            "justify_items": null,
            "left": null,
            "margin": null,
            "max_height": null,
            "max_width": null,
            "min_height": null,
            "min_width": null,
            "object_fit": null,
            "object_position": null,
            "order": null,
            "overflow": null,
            "overflow_x": null,
            "overflow_y": null,
            "padding": null,
            "right": null,
            "top": null,
            "visibility": null,
            "width": null
          }
        },
        "add3871a35d5412c9784b5ab325292dc": {
          "model_module": "@jupyter-widgets/controls",
          "model_name": "DescriptionStyleModel",
          "model_module_version": "1.5.0",
          "state": {
            "_model_module": "@jupyter-widgets/controls",
            "_model_module_version": "1.5.0",
            "_model_name": "DescriptionStyleModel",
            "_view_count": null,
            "_view_module": "@jupyter-widgets/base",
            "_view_module_version": "1.2.0",
            "_view_name": "StyleView",
            "description_width": ""
          }
        },
        "1c94a235b5e4464a807dd1036a6a1dd6": {
          "model_module": "@jupyter-widgets/base",
          "model_name": "LayoutModel",
          "model_module_version": "1.2.0",
          "state": {
            "_model_module": "@jupyter-widgets/base",
            "_model_module_version": "1.2.0",
            "_model_name": "LayoutModel",
            "_view_count": null,
            "_view_module": "@jupyter-widgets/base",
            "_view_module_version": "1.2.0",
            "_view_name": "LayoutView",
            "align_content": null,
            "align_items": null,
            "align_self": null,
            "border": null,
            "bottom": null,
            "display": null,
            "flex": null,
            "flex_flow": null,
            "grid_area": null,
            "grid_auto_columns": null,
            "grid_auto_flow": null,
            "grid_auto_rows": null,
            "grid_column": null,
            "grid_gap": null,
            "grid_row": null,
            "grid_template_areas": null,
            "grid_template_columns": null,
            "grid_template_rows": null,
            "height": null,
            "justify_content": null,
            "justify_items": null,
            "left": null,
            "margin": null,
            "max_height": null,
            "max_width": null,
            "min_height": null,
            "min_width": null,
            "object_fit": null,
            "object_position": null,
            "order": null,
            "overflow": null,
            "overflow_x": null,
            "overflow_y": null,
            "padding": null,
            "right": null,
            "top": null,
            "visibility": null,
            "width": null
          }
        },
        "81686031ce664fc29a5ede3bdb6768d5": {
          "model_module": "@jupyter-widgets/controls",
          "model_name": "ProgressStyleModel",
          "model_module_version": "1.5.0",
          "state": {
            "_model_module": "@jupyter-widgets/controls",
            "_model_module_version": "1.5.0",
            "_model_name": "ProgressStyleModel",
            "_view_count": null,
            "_view_module": "@jupyter-widgets/base",
            "_view_module_version": "1.2.0",
            "_view_name": "StyleView",
            "bar_color": null,
            "description_width": ""
          }
        },
        "27ed190a1fee4c41b114435dab39a764": {
          "model_module": "@jupyter-widgets/base",
          "model_name": "LayoutModel",
          "model_module_version": "1.2.0",
          "state": {
            "_model_module": "@jupyter-widgets/base",
            "_model_module_version": "1.2.0",
            "_model_name": "LayoutModel",
            "_view_count": null,
            "_view_module": "@jupyter-widgets/base",
            "_view_module_version": "1.2.0",
            "_view_name": "LayoutView",
            "align_content": null,
            "align_items": null,
            "align_self": null,
            "border": null,
            "bottom": null,
            "display": null,
            "flex": null,
            "flex_flow": null,
            "grid_area": null,
            "grid_auto_columns": null,
            "grid_auto_flow": null,
            "grid_auto_rows": null,
            "grid_column": null,
            "grid_gap": null,
            "grid_row": null,
            "grid_template_areas": null,
            "grid_template_columns": null,
            "grid_template_rows": null,
            "height": null,
            "justify_content": null,
            "justify_items": null,
            "left": null,
            "margin": null,
            "max_height": null,
            "max_width": null,
            "min_height": null,
            "min_width": null,
            "object_fit": null,
            "object_position": null,
            "order": null,
            "overflow": null,
            "overflow_x": null,
            "overflow_y": null,
            "padding": null,
            "right": null,
            "top": null,
            "visibility": null,
            "width": null
          }
        },
        "b50f5d014a574a1e8ce42f5072ef8277": {
          "model_module": "@jupyter-widgets/controls",
          "model_name": "DescriptionStyleModel",
          "model_module_version": "1.5.0",
          "state": {
            "_model_module": "@jupyter-widgets/controls",
            "_model_module_version": "1.5.0",
            "_model_name": "DescriptionStyleModel",
            "_view_count": null,
            "_view_module": "@jupyter-widgets/base",
            "_view_module_version": "1.2.0",
            "_view_name": "StyleView",
            "description_width": ""
          }
        }
      }
    }
  },
  "cells": [
    {
      "cell_type": "markdown",
      "metadata": {
        "id": "view-in-github",
        "colab_type": "text"
      },
      "source": [
        "<a href=\"https://colab.research.google.com/github/hilakornis/-Qiskit-Textbook/blob/main/TurboPI.ipynb\" target=\"_parent\"><img src=\"https://colab.research.google.com/assets/colab-badge.svg\" alt=\"Open In Colab\"/></a>"
      ]
    },
    {
      "cell_type": "code",
      "source": [
        "# !conda create -n depth-pro -y python=3.9\n",
        "# !conda activate depth-pro\n",
        "\n",
        "# !pip install -e ."
      ],
      "metadata": {
        "id": "IZhob0bdwWgO"
      },
      "execution_count": null,
      "outputs": []
    },
    {
      "cell_type": "code",
      "source": [
        "!git clone https://github.com/apple/ml-depth-pro.git"
      ],
      "metadata": {
        "colab": {
          "base_uri": "https://localhost:8080/"
        },
        "id": "nMFrfWvnxXBt",
        "outputId": "7887b307-cace-47bf-fae1-270d446c834c"
      },
      "execution_count": null,
      "outputs": [
        {
          "output_type": "stream",
          "name": "stdout",
          "text": [
            "fatal: destination path 'ml-depth-pro' already exists and is not an empty directory.\n"
          ]
        }
      ]
    },
    {
      "cell_type": "code",
      "source": [
        "%cd /content/ml-depth-pro/src"
      ],
      "metadata": {
        "colab": {
          "base_uri": "https://localhost:8080/"
        },
        "id": "vo9bw_a_1J9T",
        "outputId": "524076d9-511c-4401-bc39-881bfbf5af1f"
      },
      "execution_count": null,
      "outputs": [
        {
          "output_type": "stream",
          "name": "stdout",
          "text": [
            "/content/ml-depth-pro/src\n"
          ]
        }
      ]
    },
    {
      "cell_type": "code",
      "source": [
        "%ls"
      ],
      "metadata": {
        "colab": {
          "base_uri": "https://localhost:8080/"
        },
        "id": "SxldLZil2JQg",
        "outputId": "f8fbffa5-fd07-4e45-f827-7267cf6b536b"
      },
      "execution_count": null,
      "outputs": [
        {
          "output_type": "stream",
          "name": "stdout",
          "text": [
            "\u001b[0m\u001b[01;34mdepth_pro\u001b[0m/\n"
          ]
        }
      ]
    },
    {
      "cell_type": "code",
      "source": [
        "!source /content/ml-depth-pro/get_pretrained_models.sh   # Files will be downloaded to `checkpoints` directory."
      ],
      "metadata": {
        "colab": {
          "base_uri": "https://localhost:8080/"
        },
        "id": "rptZx7gz05J0",
        "outputId": "ce73586f-85ab-499d-aeb8-74d04f4d5ee3"
      },
      "execution_count": null,
      "outputs": [
        {
          "output_type": "stream",
          "name": "stdout",
          "text": [
            "--2025-02-08 18:42:11--  https://ml-site.cdn-apple.com/models/depth-pro/depth_pro.pt\n",
            "Resolving ml-site.cdn-apple.com (ml-site.cdn-apple.com)... 17.253.53.208, 17.253.53.203, 2a01:b740:a02:f100::6, ...\n",
            "Connecting to ml-site.cdn-apple.com (ml-site.cdn-apple.com)|17.253.53.208|:443... connected.\n",
            "HTTP request sent, awaiting response... 200 OK\n",
            "Length: 1904446787 (1.8G) [binary/octet-stream]\n",
            "Saving to: ‘checkpoints/depth_pro.pt’\n",
            "\n",
            "depth_pro.pt        100%[===================>]   1.77G  19.4MB/s    in 1m 49s  \n",
            "\n",
            "2025-02-08 18:44:01 (16.6 MB/s) - ‘checkpoints/depth_pro.pt’ saved [1904446787/1904446787]\n",
            "\n"
          ]
        }
      ]
    },
    {
      "cell_type": "code",
      "source": [
        "# %pip install -r /content/ml-depth-pro/pyproject.toml"
      ],
      "metadata": {
        "id": "xHm4ukXs1d6x"
      },
      "execution_count": null,
      "outputs": []
    },
    {
      "cell_type": "code",
      "source": [
        "# !/content/ml-depth-pro/src/depth_pro/cli/run.py -i ./data/example.jpg"
      ],
      "metadata": {
        "colab": {
          "base_uri": "https://localhost:8080/"
        },
        "id": "EyrZPiPg16yR",
        "outputId": "6a29b79a-3080-40b3-910d-578570df9070"
      },
      "execution_count": null,
      "outputs": [
        {
          "output_type": "stream",
          "name": "stdout",
          "text": [
            "Traceback (most recent call last):\n",
            "  File \"/content/ml-depth-pro/src/depth_pro/cli/run.py\", line 18, in <module>\n",
            "    from depth_pro import create_model_and_transforms, load_rgb\n",
            "ModuleNotFoundError: No module named 'depth_pro'\n"
          ]
        }
      ]
    },
    {
      "cell_type": "code",
      "source": [
        "# !python src/depth_pro/depth_pro.py\n"
      ],
      "metadata": {
        "colab": {
          "base_uri": "https://localhost:8080/"
        },
        "id": "6FuBhdI-x65-",
        "outputId": "90dbeb4a-fb7a-42e3-e015-fb8f1bf04dd3"
      },
      "execution_count": null,
      "outputs": [
        {
          "output_type": "stream",
          "name": "stdout",
          "text": [
            "Traceback (most recent call last):\n",
            "  File \"/content/ml-depth-pro/src/depth_pro/depth_pro.py\", line 20, in <module>\n",
            "    from .network.decoder import MultiresConvDecoder\n",
            "ImportError: attempted relative import with no known parent package\n"
          ]
        }
      ]
    },
    {
      "cell_type": "code",
      "source": [
        "%pip install pillow_heif\n"
      ],
      "metadata": {
        "colab": {
          "base_uri": "https://localhost:8080/"
        },
        "id": "o9jmfiuz2y_w",
        "outputId": "92a69c7e-a9e7-4ddc-e1b4-684e6dbf9ede"
      },
      "execution_count": null,
      "outputs": [
        {
          "output_type": "stream",
          "name": "stdout",
          "text": [
            "Requirement already satisfied: pillow_heif in /usr/local/lib/python3.11/dist-packages (0.21.0)\n",
            "Requirement already satisfied: pillow>=10.1.0 in /usr/local/lib/python3.11/dist-packages (from pillow_heif) (11.1.0)\n"
          ]
        }
      ]
    },
    {
      "cell_type": "code",
      "source": [
        "from PIL import Image\n",
        "import depth_pro\n",
        "\n",
        "image_path = \"/content/ml-depth-pro/data/TurboPi_Cropped_480p.jpg\"\n",
        "\n",
        "# Load model and preprocessing transform\n",
        "model, transform = depth_pro.create_model_and_transforms()\n",
        "model.eval()\n",
        "# model.to(\"cuda\")\n",
        "\n",
        "# Load and preprocess an image.\n",
        "image, _, f_px = depth_pro.load_rgb(image_path)\n",
        "image = transform(image)\n",
        "# f_px = f_px.to(\"cuda\")\n",
        "\n",
        "# Run inference.\n",
        "prediction = model.infer(image, f_px=f_px)\n",
        "depth = prediction[\"depth\"]  # Depth in [m].\n",
        "focallength_px = prediction[\"focallength_px\"]  # Focal length in pixels."
      ],
      "metadata": {
        "id": "l4FtFVwIyBxm"
      },
      "execution_count": null,
      "outputs": []
    },
    {
      "cell_type": "code",
      "source": [
        "focallength_px"
      ],
      "metadata": {
        "id": "ejg4T0Yx6jms"
      },
      "execution_count": null,
      "outputs": []
    },
    {
      "cell_type": "code",
      "source": [
        "import matplotlib.pyplot as plt\n",
        "plt.imshow(depth)"
      ],
      "metadata": {
        "colab": {
          "base_uri": "https://localhost:8080/",
          "height": 161
        },
        "id": "oqLe9VPn5O0y",
        "outputId": "68a78f29-5de2-4c67-e7a6-08f44cbd9378"
      },
      "execution_count": null,
      "outputs": [
        {
          "output_type": "error",
          "ename": "NameError",
          "evalue": "name 'depth' is not defined",
          "traceback": [
            "\u001b[0;31m---------------------------------------------------------------------------\u001b[0m",
            "\u001b[0;31mNameError\u001b[0m                                 Traceback (most recent call last)",
            "\u001b[0;32m<ipython-input-1-27b7652eef84>\u001b[0m in \u001b[0;36m<cell line: 0>\u001b[0;34m()\u001b[0m\n\u001b[1;32m      1\u001b[0m \u001b[0;32mimport\u001b[0m \u001b[0mmatplotlib\u001b[0m\u001b[0;34m.\u001b[0m\u001b[0mpyplot\u001b[0m \u001b[0;32mas\u001b[0m \u001b[0mplt\u001b[0m\u001b[0;34m\u001b[0m\u001b[0;34m\u001b[0m\u001b[0m\n\u001b[0;32m----> 2\u001b[0;31m \u001b[0mplt\u001b[0m\u001b[0;34m.\u001b[0m\u001b[0mimshow\u001b[0m\u001b[0;34m(\u001b[0m\u001b[0mdepth\u001b[0m\u001b[0;34m)\u001b[0m\u001b[0;34m\u001b[0m\u001b[0;34m\u001b[0m\u001b[0m\n\u001b[0m",
            "\u001b[0;31mNameError\u001b[0m: name 'depth' is not defined"
          ]
        }
      ]
    },
    {
      "cell_type": "code",
      "source": [
        "from transformers import pipeline\n",
        "from PIL import Image\n",
        "import requests\n",
        "\n",
        "# load pipe\n",
        "pipe = pipeline(task=\"depth-estimation\", model=\"depth-anything/Depth-Anything-V2-Large-hf\")\n",
        "\n",
        "# load image\n",
        "# url = 'http://images.cocodataset.org/val2017/000000039769.jpg'\n",
        "# image = Image.open(requests.get(url, stream=True).raw)\n",
        "image = Image.open(\"/content/ml-depth-pro/data/TurboPi_Cropped_480p.jpg\")\n",
        "\n",
        "# inference\n",
        "depth = pipe(image)[\"depth\"]"
      ],
      "metadata": {
        "colab": {
          "base_uri": "https://localhost:8080/",
          "height": 275,
          "referenced_widgets": [
            "676b0e038ac44331a86af690153d0cf8",
            "6f82c70ef9fa4d99b857f2bd3ce8b876",
            "af93d48089274d15a4f047ab7f7216aa",
            "93351d9d67d64567953dd62d43b4aa7d",
            "f6b5092862a64d6f95aa7f74c3925e88",
            "dd2fe3a579e3427e9a37f3ba93feb6fc",
            "63cc12b64bd04d0c8ab83d3137147c15",
            "089022e9083f40f4aa43024ce08db489",
            "1fe046cf696546b4814b7db1795c0397",
            "39b127f1f9334b56abc4a819590072fb",
            "a6c3b7c5b0dc4d80861610ab28436fa9",
            "b25437291a2a4ef9949a67cea79587a8",
            "aa088b806928465287b9c07d4c5448b0",
            "9024195c09b74c72b60ecbf25b5dd090",
            "b432f4096b6e45b3a51baf5067922fc0",
            "b89ec3f73b43449dbafad05be65ae7fb",
            "ccdfb19f21644b79982aead187c061cc",
            "1febb4152c19474b8d3827aec9a0430e",
            "0c8d2242af614f3caeb99f47420b388d",
            "0a2b1edcc4b44bccb986454a25ebe329",
            "b412d385ee554da08ad7ecfe6c8d1b1c",
            "634366a717134ce3abcd66c1ffcb6b03",
            "a11e6aa5df484abd89abeb9093c8200e",
            "cb491f02768740db9e5e6a89be47dc2a",
            "7f13a4ebcd014ac0b7ce251fb17344bc",
            "b5b34fa4561d46e980c566b401565166",
            "d5523902f55e4eecbd2d38e7a7bbc656",
            "f2e4781abd764500bec52b2e9fd46c25",
            "add3871a35d5412c9784b5ab325292dc",
            "1c94a235b5e4464a807dd1036a6a1dd6",
            "81686031ce664fc29a5ede3bdb6768d5",
            "27ed190a1fee4c41b114435dab39a764",
            "b50f5d014a574a1e8ce42f5072ef8277"
          ]
        },
        "id": "m3Nr7IrB7B9O",
        "outputId": "522092ee-13bb-4026-be2f-dc36b6e9ebdb"
      },
      "execution_count": null,
      "outputs": [
        {
          "output_type": "stream",
          "name": "stderr",
          "text": [
            "/usr/local/lib/python3.11/dist-packages/huggingface_hub/utils/_auth.py:94: UserWarning: \n",
            "The secret `HF_TOKEN` does not exist in your Colab secrets.\n",
            "To authenticate with the Hugging Face Hub, create a token in your settings tab (https://huggingface.co/settings/tokens), set it as secret in your Google Colab and restart your session.\n",
            "You will be able to reuse this secret in all of your notebooks.\n",
            "Please note that authentication is recommended but still optional to access public models or datasets.\n",
            "  warnings.warn(\n"
          ]
        },
        {
          "output_type": "display_data",
          "data": {
            "text/plain": [
              "config.json:   0%|          | 0.00/1.43k [00:00<?, ?B/s]"
            ],
            "application/vnd.jupyter.widget-view+json": {
              "version_major": 2,
              "version_minor": 0,
              "model_id": "676b0e038ac44331a86af690153d0cf8"
            }
          },
          "metadata": {}
        },
        {
          "output_type": "display_data",
          "data": {
            "text/plain": [
              "model.safetensors:   0%|          | 0.00/1.34G [00:00<?, ?B/s]"
            ],
            "application/vnd.jupyter.widget-view+json": {
              "version_major": 2,
              "version_minor": 0,
              "model_id": "b25437291a2a4ef9949a67cea79587a8"
            }
          },
          "metadata": {}
        },
        {
          "output_type": "display_data",
          "data": {
            "text/plain": [
              "preprocessor_config.json:   0%|          | 0.00/775 [00:00<?, ?B/s]"
            ],
            "application/vnd.jupyter.widget-view+json": {
              "version_major": 2,
              "version_minor": 0,
              "model_id": "a11e6aa5df484abd89abeb9093c8200e"
            }
          },
          "metadata": {}
        },
        {
          "output_type": "stream",
          "name": "stderr",
          "text": [
            "Using a slow image processor as `use_fast` is unset and a slow processor was saved with this model. `use_fast=True` will be the default behavior in v4.48, even if the model was saved with a slow processor. This will result in minor differences in outputs. You'll still be able to use a slow processor with `use_fast=False`.\n",
            "Device set to use cuda:0\n"
          ]
        }
      ]
    },
    {
      "cell_type": "code",
      "source": [
        "import numpy as np\n",
        "\n",
        "np.array(depth)"
      ],
      "metadata": {
        "colab": {
          "base_uri": "https://localhost:8080/",
          "height": 521
        },
        "id": "x0FpFHYR7O1W",
        "outputId": "be742f7f-4735-4982-a6b9-d530ad5fb1d8"
      },
      "execution_count": null,
      "outputs": [
        {
          "output_type": "execute_result",
          "data": {
            "text/plain": [
              "array([[ 61,  60,  61, ...,  45,  45,  43],\n",
              "       [ 60,  60,  61, ...,  45,  45,  45],\n",
              "       [ 60,  61,  60, ...,  45,  45,  45],\n",
              "       ...,\n",
              "       [195, 195, 195, ..., 194, 195, 195],\n",
              "       [196, 195, 196, ..., 195, 195, 195],\n",
              "       [196, 196, 196, ..., 195, 195, 196]], dtype=uint8)"
            ],
            "text/html": [
              "<style>\n",
              "      .ndarray_repr .ndarray_raw_data {\n",
              "        display: none;\n",
              "      }\n",
              "      .ndarray_repr.show_array .ndarray_raw_data {\n",
              "        display: block;\n",
              "      }\n",
              "      .ndarray_repr.show_array .ndarray_image_preview {\n",
              "        display: none;\n",
              "      }\n",
              "      </style>\n",
              "      <div id=\"id-254ff482-3c02-4676-b60f-60bea0064ad9\" class=\"ndarray_repr\"><pre>ndarray (480, 480) <button style=\"padding: 0 2px;\">show data</button></pre><img src=\"data:image/png;base64,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\" class=\"ndarray_image_preview\" /><pre class=\"ndarray_raw_data\">array([[ 61,  60,  61, ...,  45,  45,  43],\n",
              "       [ 60,  60,  61, ...,  45,  45,  45],\n",
              "       [ 60,  61,  60, ...,  45,  45,  45],\n",
              "       ...,\n",
              "       [195, 195, 195, ..., 194, 195, 195],\n",
              "       [196, 195, 196, ..., 195, 195, 195],\n",
              "       [196, 196, 196, ..., 195, 195, 196]], dtype=uint8)</pre></div><script>\n",
              "      (() => {\n",
              "      const titles = ['show data', 'hide data'];\n",
              "      let index = 0\n",
              "      document.querySelector('#id-254ff482-3c02-4676-b60f-60bea0064ad9 button').onclick = (e) => {\n",
              "        document.querySelector('#id-254ff482-3c02-4676-b60f-60bea0064ad9').classList.toggle('show_array');\n",
              "        index = (++index) % 2;\n",
              "        document.querySelector('#id-254ff482-3c02-4676-b60f-60bea0064ad9 button').textContent = titles[index];\n",
              "        e.preventDefault();\n",
              "        e.stopPropagation();\n",
              "      }\n",
              "      })();\n",
              "    </script>"
            ]
          },
          "metadata": {},
          "execution_count": 8
        }
      ]
    }
  ]
}